{
  "nbformat": 4,
  "nbformat_minor": 0,
  "metadata": {
    "colab": {
      "provenance": [],
      "authorship_tag": "ABX9TyPJJn2VwRAgrstNddWU8vmp",
      "include_colab_link": true
    },
    "kernelspec": {
      "name": "python3",
      "display_name": "Python 3"
    },
    "language_info": {
      "name": "python"
    }
  },
  "cells": [
    {
      "cell_type": "markdown",
      "metadata": {
        "id": "view-in-github",
        "colab_type": "text"
      },
      "source": [
        "<a href=\"https://colab.research.google.com/github/MSROSa13/InteligenciaArtificial/blob/main/EjercicioPython_1.ipynb\" target=\"_parent\"><img src=\"https://colab.research.google.com/assets/colab-badge.svg\" alt=\"Open In Colab\"/></a>"
      ]
    },
    {
      "cell_type": "markdown",
      "source": [
        "Actividad 2 Miguel Rojas Salgado 2082272 N1"
      ],
      "metadata": {
        "id": "rwecNB7Ph5XZ"
      }
    },
    {
      "cell_type": "markdown",
      "source": [
        "**Programa 1**"
      ],
      "metadata": {
        "id": "BGHwaKJGkj4N"
      }
    },
    {
      "cell_type": "code",
      "execution_count": 1,
      "metadata": {
        "colab": {
          "base_uri": "https://localhost:8080/"
        },
        "id": "KdRa45qJhIvg",
        "outputId": "42aa17f4-db06-44c3-dddf-53878c5a287f"
      },
      "outputs": [
        {
          "output_type": "stream",
          "name": "stdout",
          "text": [
            "Por favor, ingresa un numero entero: 4\n",
            "El numero 4 es par.\n"
          ]
        }
      ],
      "source": [
        "def ParoNon(numero):\n",
        "    if numero % 2 == 0:\n",
        "        return \"par\"\n",
        "    else:\n",
        "        return \"impar\"\n",
        "\n",
        "try:\n",
        "    numero = int(input(\"Por favor, ingresa un numero entero: \"))\n",
        "    resultado = ParoNon(numero)\n",
        "    print(f\"El numero {numero} es {resultado}.\")\n",
        "except ValueError:\n",
        "    print(\"Puede ser que el dato ingresado no sea un carrPrograma 1\")\n"
      ]
    },
    {
      "cell_type": "markdown",
      "source": [
        "**Programa 2**"
      ],
      "metadata": {
        "id": "JD4zisRrkgeo"
      }
    },
    {
      "cell_type": "code",
      "source": [
        "def Listainversa(lista):\n",
        "    return lista[::-1]\n",
        "\n",
        "try:\n",
        "    numeros = input(\"Por favor, ingresa una lista de numeros separados por espacios: La lista no tien limites de caracteres, acepta enteros y decimales \").split()\n",
        "    numeros = [float(num) for num in numeros]\n",
        "    resultado = Listainversa(numeros)\n",
        "    print(f\"La lista ingresada en orden inverso es: {resultado}\")\n",
        "except ValueError:\n",
        "    print(\"Posiblemente ingreso valores invalidos, por favor solo ingrese numeros.\")"
      ],
      "metadata": {
        "colab": {
          "base_uri": "https://localhost:8080/"
        },
        "id": "9Oyd7WTKhvqz",
        "outputId": "b691932d-da96-4206-e553-e84fac978867"
      },
      "execution_count": 2,
      "outputs": [
        {
          "output_type": "stream",
          "name": "stdout",
          "text": [
            "Por favor, ingresa una lista de numeros separados por espacios: La lista no tien limites de caracteres, acepta enteros y decimales 21 5.5 46 1 13 2.21 22\n",
            "La lista ingresada en orden inverso es: [22.0, 2.21, 13.0, 1.0, 46.0, 5.5, 21.0]\n"
          ]
        }
      ]
    },
    {
      "cell_type": "markdown",
      "source": [
        "**Programa 3**"
      ],
      "metadata": {
        "id": "NVQxLIOmkswI"
      }
    },
    {
      "cell_type": "code",
      "source": [
        "import random\n",
        "\n",
        "def Juego():\n",
        "    valor = random.randint(1, 100)\n",
        "    intentos = 0\n",
        "\n",
        "    while True:\n",
        "        intento = int(input(\"Adivina el numero (entre 1 y 100): \"))\n",
        "        intentos += 1\n",
        "\n",
        "        if intento < valor:\n",
        "            print(\"Un poco mas intenta de nuevo\")\n",
        "        elif intento > valor:\n",
        "            print(\"Un poco menos intenta de nuevo\")\n",
        "        else:\n",
        "            print(f\"Ganaste, eres todo un genio, felicidades solo te tomo {intentos} intentos, es todo un record.\")\n",
        "            break\n",
        "\n",
        "Juego()"
      ],
      "metadata": {
        "id": "h7NUndAYke-R",
        "colab": {
          "base_uri": "https://localhost:8080/"
        },
        "outputId": "c56b706e-6665-4129-d2c4-3c5fca4e0b08"
      },
      "execution_count": 3,
      "outputs": [
        {
          "output_type": "stream",
          "name": "stdout",
          "text": [
            "Adivina el numero (entre 1 y 100): 50 \n",
            "Un poco mas intenta de nuevo\n",
            "Adivina el numero (entre 1 y 100): 80\n",
            "Un poco menos intenta de nuevo\n",
            "Adivina el numero (entre 1 y 100): 60\n",
            "Un poco menos intenta de nuevo\n",
            "Adivina el numero (entre 1 y 100): 55\n",
            "Un poco mas intenta de nuevo\n",
            "Adivina el numero (entre 1 y 100): 57\n",
            "Un poco mas intenta de nuevo\n",
            "Adivina el numero (entre 1 y 100): 58\n",
            "Un poco mas intenta de nuevo\n",
            "Adivina el numero (entre 1 y 100): 59\n",
            "Ganaste, eres todo un genio, felicidades solo te tomo 7 intentos, es todo un record.\n"
          ]
        }
      ]
    },
    {
      "cell_type": "markdown",
      "source": [
        "**Programa 4**"
      ],
      "metadata": {
        "id": "FdTdWpF5mY2E"
      }
    },
    {
      "cell_type": "code",
      "source": [
        "def Primos(numero):\n",
        "    if numero < 2:\n",
        "        return False\n",
        "    for i in range(2, int(numero**0.5) + 1):\n",
        "        if numero % i == 0:\n",
        "            return False\n",
        "    return True\n",
        "\n",
        "try:\n",
        "    inicio = int(input(\"Introduce el primer numero del rango que quisieras conocer los numeros primos: \"))\n",
        "    fin = int(input(\"IIntroduce el ultimo numero del rango que quisieras conocer los numeros primos: \"))\n",
        "\n",
        "    if inicio < 2:\n",
        "        inicio = 2\n",
        "\n",
        "    print(f\"Los numeros primos en el rango de {inicio} a {fin} son:\")\n",
        "\n",
        "    for numero in range(inicio, fin + 1):\n",
        "        if Primos(numero):\n",
        "            print(numero)\n",
        "\n",
        "except ValueError:\n",
        "    print(\"Por favor solo ingrese numeros entero para el rango.\")\n"
      ],
      "metadata": {
        "colab": {
          "base_uri": "https://localhost:8080/"
        },
        "id": "OYHgkj1Rma7U",
        "outputId": "0f54984b-e3d0-4ad9-fde1-28b4567b39f1"
      },
      "execution_count": 4,
      "outputs": [
        {
          "output_type": "stream",
          "name": "stdout",
          "text": [
            "Introduce el primer numero del rango que quisieras conocer los numeros primos: 12\n",
            "IIntroduce el ultimo numero del rango que quisieras conocer los numeros primos: 200\n",
            "Los numeros primos en el rango de 12 a 200 son:\n",
            "13\n",
            "17\n",
            "19\n",
            "23\n",
            "29\n",
            "31\n",
            "37\n",
            "41\n",
            "43\n",
            "47\n",
            "53\n",
            "59\n",
            "61\n",
            "67\n",
            "71\n",
            "73\n",
            "79\n",
            "83\n",
            "89\n",
            "97\n",
            "101\n",
            "103\n",
            "107\n",
            "109\n",
            "113\n",
            "127\n",
            "131\n",
            "137\n",
            "139\n",
            "149\n",
            "151\n",
            "157\n",
            "163\n",
            "167\n",
            "173\n",
            "179\n",
            "181\n",
            "191\n",
            "193\n",
            "197\n",
            "199\n"
          ]
        }
      ]
    }
  ]
}