{
  "nbformat": 4,
  "nbformat_minor": 0,
  "metadata": {
    "colab": {
      "provenance": [],
      "authorship_tag": "ABX9TyPJJn2VwRAgrstNddWU8vmp",
      "include_colab_link": true
    },
    "kernelspec": {
      "name": "python3",
      "display_name": "Python 3"
    },
    "language_info": {
      "name": "python"
    }
  },
  "cells": [
    {
      "cell_type": "markdown",
      "metadata": {
        "id": "view-in-github",
        "colab_type": "text"
      },
      "source": [
        "<a href=\"https://colab.research.google.com/github/MSROSa13/InteligenciaArtificial/blob/main/EjercicioPython_1.ipynb\" target=\"_parent\"><img src=\"https://colab.research.google.com/assets/colab-badge.svg\" alt=\"Open In Colab\"/></a>"
      ]
    },
    {
      "cell_type": "markdown",
      "source": [
        "Actividad 2 Miguel Rojas Salgado 2082272 N1"
      ],
      "metadata": {
        "id": "rwecNB7Ph5XZ"
      }
    },
    {
      "cell_type": "markdown",
      "source": [
        "**Programa 1**"
      ],
      "metadata": {
        "id": "BGHwaKJGkj4N"
      }
    },
    {
      "cell_type": "code",
      "execution_count": null,
      "metadata": {
        "id": "KdRa45qJhIvg"
      },
      "outputs": [],
      "source": [
        "def ParoNon(numero):\n",
        "    if numero % 2 == 0:\n",
        "        return \"par\"\n",
        "    else:\n",
        "        return \"impar\"\n",
        "\n",
        "try:\n",
        "    numero = int(input(\"Por favor, ingresa un numero entero: \"))\n",
        "    resultado = ParoNon(numero)\n",
        "    print(f\"El numero {numero} es {resultado}.\")\n",
        "except ValueError:\n",
        "    print(\"Puede ser que el dato ingresado no sea un carrPrograma 1\")\n"
      ]
    },
    {
      "cell_type": "markdown",
      "source": [
        "**Programa 2**"
      ],
      "metadata": {
        "id": "JD4zisRrkgeo"
      }
    },
    {
      "cell_type": "code",
      "source": [
        "def Listainversa(lista):\n",
        "    return lista[::-1]\n",
        "\n",
        "try:\n",
        "    numeros = input(\"Por favor, ingresa una lista de numeros separados por espacios: La lista no tien limites de caracteres, acepta enteros y decimales \").split()\n",
        "    numeros = [float(num) for num in numeros]\n",
        "    resultado = Listainversa(numeros)\n",
        "    print(f\"La lista ingresada en orden inverso es: {resultado}\")\n",
        "except ValueError:\n",
        "    print(\"Posiblemente ingreso valores invalidos, por favor solo ingrese numeros.\")"
      ],
      "metadata": {
        "id": "9Oyd7WTKhvqz"
      },
      "execution_count": null,
      "outputs": []
    },
    {
      "cell_type": "markdown",
      "source": [
        "**Programa 3**"
      ],
      "metadata": {
        "id": "NVQxLIOmkswI"
      }
    },
    {
      "cell_type": "code",
      "source": [
        "import random\n",
        "\n",
        "def Juego():\n",
        "    valor = random.randint(1, 100)\n",
        "    intentos = 0\n",
        "\n",
        "    while True:\n",
        "        intento = int(input(\"Adivina el numero (entre 1 y 100): \"))\n",
        "        intentos += 1\n",
        "\n",
        "        if intento < valor:\n",
        "            print(\"Un poco mas intenta de nuevo\")\n",
        "        elif intento > valor:\n",
        "            print(\"Un poco menos intenta de nuevo\")\n",
        "        else:\n",
        "            print(f\"Ganaste, eres todo un genio, felicidades solo te tomo {intentos} intentos, es todo un record.\")\n",
        "            break\n",
        "\n",
        "Juego()"
      ],
      "metadata": {
        "id": "h7NUndAYke-R"
      },
      "execution_count": null,
      "outputs": []
    },
    {
      "cell_type": "markdown",
      "source": [
        "**Programa 4**"
      ],
      "metadata": {
        "id": "FdTdWpF5mY2E"
      }
    },
    {
      "cell_type": "code",
      "source": [
        "def Primos(numero):\n",
        "    if numero < 2:\n",
        "        return False\n",
        "    for i in range(2, int(numero**0.5) + 1):\n",
        "        if numero % i == 0:\n",
        "            return False\n",
        "    return True\n",
        "\n",
        "try:\n",
        "    inicio = int(input(\"Introduce el primer numero del rango que quisieras conocer los numeros primos: \"))\n",
        "    fin = int(input(\"IIntroduce el ultimo numero del rango que quisieras conocer los numeros primos: \"))\n",
        "\n",
        "    if inicio < 2:\n",
        "        inicio = 2\n",
        "\n",
        "    print(f\"Los numeros primos en el rango de {inicio} a {fin} son:\")\n",
        "\n",
        "    for numero in range(inicio, fin + 1):\n",
        "        if Primos(numero):\n",
        "            print(numero)\n",
        "\n",
        "except ValueError:\n",
        "    print(\"Por favor solo ingrese numeros entero para el rango.\")\n"
      ],
      "metadata": {
        "id": "OYHgkj1Rma7U"
      },
      "execution_count": null,
      "outputs": []
    }
  ]
}